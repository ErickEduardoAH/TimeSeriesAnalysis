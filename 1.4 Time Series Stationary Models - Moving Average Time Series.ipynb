{
 "cells": [
  {
   "cell_type": "markdown",
   "metadata": {},
   "source": [
    "\n",
    "# Moving Average Time Series\n",
    "\n",
    "---\n",
    "> Erick Eduardo Aguilar Hernández:\n",
    "> * mat.ErickAguilar@ciencias.unam.mx\n",
    "> * isc.ErickAguilar@gmail.com\n",
    "---"
   ]
  },
  {
   "cell_type": "markdown",
   "metadata": {},
   "source": [
    "#  Moving Average Model\n",
    "\n",
    "___\n",
    "\n",
    "\n",
    "The moving average model is another time series process parametric family with some differences from the $AR(p)$ model., the moving average series of order q with drift c $MA(q)$ is defined as:\n",
    "\n",
    "\n",
    "$$\n",
    "X_{t} = \\theta_1 \\varepsilon_{t-1} +  \\theta_2 \\varepsilon_{t-2} + ... +  \\theta_p \\varepsilon_{t-p} + \\varepsilon_t + c\n",
    "$$\n",
    "\n",
    "Where: \n",
    "* $\\theta_{i}$: It's a real coefficient.\n",
    "* $\\varepsilon_t$: It's and uncorrelated normal variable $N(0,\\sigma^2)$ at \"time\" $t-i$ for $1 \\leq i \\leq k$\n",
    "\n",
    "\n",
    "## MA(1) model\n",
    "___\n",
    "\n",
    "\n",
    "The MA(1) model it's the process given by the following recursion:\n",
    "\n",
    "$$\n",
    "X_t = \\theta \\varepsilon_{t-1} + \\varepsilon_t+c\n",
    "$$\n",
    "\n",
    "\n",
    "#### MA(1) model stationarity conditions\n",
    "The $\\{Xt\\}$ process is always stationary.\n",
    "\n",
    "\n",
    "$$\n",
    "\\begin{align*}\n",
    "    X_t &= \\theta_1 \\varepsilon_{t-1} + \\varepsilon_t+c \\\\\n",
    "    E[X_t] &= E[\\theta_1 \\varepsilon_{t-1} + \\varepsilon_t+c] \\\\\n",
    "    E[X_t] &= \\theta_1 E[\\varepsilon_{t-1}] + E[\\varepsilon_t]+E[c] \\\\\n",
    "    E[X_t] &= \\theta_1[0]+[0]+E[c] \\\\\n",
    "    E[X_t] &= c \\\\\n",
    "\\end{align*}\n",
    "$$"
   ]
  }
 ],
 "metadata": {
  "kernelspec": {
   "display_name": "Python 3",
   "language": "python",
   "name": "python3"
  },
  "language_info": {
   "codemirror_mode": {
    "name": "ipython",
    "version": 3
   },
   "file_extension": ".py",
   "mimetype": "text/x-python",
   "name": "python",
   "nbconvert_exporter": "python",
   "pygments_lexer": "ipython3",
   "version": "3.7.6"
  }
 },
 "nbformat": 4,
 "nbformat_minor": 2
}
