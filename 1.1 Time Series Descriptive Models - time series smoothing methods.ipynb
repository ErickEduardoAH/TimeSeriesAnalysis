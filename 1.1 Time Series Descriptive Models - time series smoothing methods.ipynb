{
 "cells": [
  {
   "cell_type": "markdown",
   "metadata": {},
   "source": [
    "#  Time Series Smoothing Methods\n",
    "\n",
    "---\n",
    "> Erick Eduardo Aguilar Hernández:\n",
    "> * mat.ErickAguilar@ciencias.unam.mx\n",
    "> * isc.ErickAguilar@gmail.com\n",
    "---\n",
    "\n",
    "#  Introduction to time series\n",
    "___\n",
    "\n",
    "The succession of events and the way they relate to the concepts of present, past and future. Explaining the past and predicting the future is a reason for constant reflection and study from the origins of humanity.\n",
    "\n",
    "In statistics there are some objetive techniques to predicting the future. Some techniques can be classified as descriptive and others as inferences when considering the presence of a probability distribution. All of them, of course, try to minimize errors in them and all rely on some fundamental principles:\n",
    "\n",
    "* Have enought information about the past.\n",
    "* The information must be quantifiable in some form of associated data at regular time intervals.\n",
    "* It is assumed that there is some inertia in the studied phenomena that results in patterns that are repeated at least partially in the future.\n",
    "\n",
    "From the descriptive point of view we can consider a time series as a set of tuples ${(t, X)}_{t=1}^n $ or ${X_t}_{t=1}^n $ where $ t $ is an index (usually time) and $ X $ is a corresponding value to the observation at time t of a variable of interest, under this paradigm it is possible to identify some elements or components of a time series:\n",
    "\n",
    "* Trend\n",
    "* Cyclical variations\n",
    "* Seasonal variations\n",
    "* Irregular or random variations."
   ]
  }
 ],
 "metadata": {
  "kernelspec": {
   "display_name": "Python 3",
   "language": "python",
   "name": "python3"
  },
  "language_info": {
   "codemirror_mode": {
    "name": "ipython",
    "version": 3
   },
   "file_extension": ".py",
   "mimetype": "text/x-python",
   "name": "python",
   "nbconvert_exporter": "python",
   "pygments_lexer": "ipython3",
   "version": "3.6.5"
  }
 },
 "nbformat": 4,
 "nbformat_minor": 2
}
